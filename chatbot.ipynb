{
 "cells": [
  {
   "cell_type": "code",
   "execution_count": 8,
   "id": "97046dd9",
   "metadata": {},
   "outputs": [],
   "source": [
    "from transformers import AutoTokenizer, AutoModelForSeq2SeqLM\n",
    "\n",
    "# tokenizer = AutoTokenizer.from_pretrained(\"facebook/blenderbot_small-90M\")\n",
    "\n",
    "# model = AutoModelForSeq2SeqLM.from_pretrained(\"facebook/blenderbot_small-90M\")\n",
    "\n",
    "mname = \"facebook/blenderbot_small-90M\"\n"
   ]
  },
  {
   "cell_type": "code",
   "execution_count": 11,
   "id": "4f26e5be",
   "metadata": {},
   "outputs": [
    {
     "name": "stdout",
     "output_type": "stream",
     "text": [
      "[\"__start__ what kind of carbs do they eat? i don't know much about carbs. __end__\"]\n"
     ]
    }
   ],
   "source": [
    "model = AutoModelForSeq2SeqLM.from_pretrained(mname)\n",
    "tokenizer = AutoTokenizer.from_pretrained(mname)\n",
    "UTTERANCE = \"My friends are cool but they eat too many carbs.\"\n",
    "inputs = tokenizer([UTTERANCE], return_tensors=\"pt\")\n",
    "reply_ids = model.generate(**inputs)\n",
    "print(tokenizer.batch_decode(reply_ids))"
   ]
  },
  {
   "cell_type": "code",
   "execution_count": 14,
   "id": "bccad2ca",
   "metadata": {},
   "outputs": [],
   "source": [
    "def respond(message, model=model, tokenizer=tokenizer):\n",
    "    UTTERANCE = message\n",
    "    inputs = tokenizer([UTTERANCE], return_tensors=\"pt\")\n",
    "    reply_ids = model.generate(**inputs)\n",
    "    print(tokenizer.batch_decode(reply_ids))"
   ]
  },
  {
   "cell_type": "code",
   "execution_count": 15,
   "id": "23dff7ce",
   "metadata": {},
   "outputs": [
    {
     "name": "stdout",
     "output_type": "stream",
     "text": [
      "[\"__start__ you're welcome. what do you like to do for fun? i'm always looking for new things to do. __end__\"]\n"
     ]
    }
   ],
   "source": [
    "respond(\"Thank you for talking to me :)\")"
   ]
  },
  {
   "cell_type": "code",
   "execution_count": 16,
   "id": "24f69807",
   "metadata": {},
   "outputs": [
    {
     "name": "stdout",
     "output_type": "stream",
     "text": [
      "[\"__start__ it's 1am here. i'm going to have to get up early to go to work. __end__\"]\n"
     ]
    }
   ],
   "source": [
    "respond(\"what time is it?\")"
   ]
  },
  {
   "cell_type": "code",
   "execution_count": 17,
   "id": "b752a548",
   "metadata": {},
   "outputs": [
    {
     "name": "stdout",
     "output_type": "stream",
     "text": [
      "[\"__start__ it's a game that's been around for a long time. it was first released in 2007. __end__\"]\n"
     ]
    }
   ],
   "source": [
    "respond(\"what is Node.js?\")"
   ]
  },
  {
   "cell_type": "code",
   "execution_count": 18,
   "id": "788b35cc",
   "metadata": {},
   "outputs": [
    {
     "name": "stdout",
     "output_type": "stream",
     "text": [
      "['__start__ i like to play video games and watch netflix. do you play any video games? __end__']\n"
     ]
    }
   ],
   "source": [
    "respond(\"What do you do for fun?\")"
   ]
  },
  {
   "cell_type": "code",
   "execution_count": 19,
   "id": "29c9afdc",
   "metadata": {},
   "outputs": [
    {
     "name": "stdout",
     "output_type": "stream",
     "text": [
      "[\"__start__ i don't like video games at all. i'm not a gamer at all __end__\"]\n"
     ]
    }
   ],
   "source": [
    "respond(\"No, I think video games are for noobs\")"
   ]
  },
  {
   "cell_type": "code",
   "execution_count": 20,
   "id": "0289d628",
   "metadata": {},
   "outputs": [
    {
     "name": "stdout",
     "output_type": "stream",
     "text": [
      "[\"__start__ i'm not sure. i don't know what to do with myself. it's been a long time since i've been in a relationship. __end__\"]\n"
     ]
    }
   ],
   "source": [
    "respond(\"Are you sure?\")"
   ]
  },
  {
   "cell_type": "code",
   "execution_count": null,
   "id": "b120f470",
   "metadata": {},
   "outputs": [],
   "source": []
  },
  {
   "cell_type": "code",
   "execution_count": null,
   "id": "6c65e0bc",
   "metadata": {},
   "outputs": [],
   "source": []
  }
 ],
 "metadata": {
  "kernelspec": {
   "display_name": "Python 3 (ipykernel)",
   "language": "python",
   "name": "python3"
  },
  "language_info": {
   "codemirror_mode": {
    "name": "ipython",
    "version": 3
   },
   "file_extension": ".py",
   "mimetype": "text/x-python",
   "name": "python",
   "nbconvert_exporter": "python",
   "pygments_lexer": "ipython3",
   "version": "3.9.15"
  }
 },
 "nbformat": 4,
 "nbformat_minor": 5
}
